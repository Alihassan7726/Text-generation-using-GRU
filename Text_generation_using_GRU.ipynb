{
  "nbformat": 4,
  "nbformat_minor": 0,
  "metadata": {
    "accelerator": "GPU",
    "colab": {
      "name": "Text generation using GRU.ipynb",
      "provenance": [],
      "collapsed_sections": []
    },
    "kernelspec": {
      "display_name": "Python 3",
      "language": "python",
      "name": "python3"
    },
    "language_info": {
      "codemirror_mode": {
        "name": "ipython",
        "version": 3
      },
      "file_extension": ".py",
      "mimetype": "text/x-python",
      "name": "python",
      "nbconvert_exporter": "python",
      "pygments_lexer": "ipython3",
      "version": "3.8.5"
    }
  },
  "cells": [
    {
      "cell_type": "code",
      "metadata": {
        "id": "LQbnbAtt4ATU"
      },
      "source": [
        "import numpy as np\n",
        "import pandas as pd\n",
        "import os\n",
        "from warnings import filterwarnings\n",
        "filterwarnings('ignore')\n",
        "pd.set_option('max_colwidth', 1000)\n"
      ],
      "execution_count": null,
      "outputs": []
    },
    {
      "cell_type": "code",
      "metadata": {
        "colab": {
          "base_uri": "https://localhost:8080/"
        },
        "id": "OqcCDsaR4ATZ",
        "outputId": "4b8329b5-528a-4cb8-e717-fd5fa6724395"
      },
      "source": [
        "from google.colab import drive\n",
        "drive.mount('gdrive')"
      ],
      "execution_count": null,
      "outputs": [
        {
          "output_type": "stream",
          "text": [
            "Mounted at gdrive\n"
          ],
          "name": "stdout"
        }
      ]
    },
    {
      "cell_type": "code",
      "metadata": {
        "colab": {
          "base_uri": "https://localhost:8080/",
          "height": 204
        },
        "id": "xVycY5QN4ATb",
        "outputId": "0009f0a5-089e-444f-9647-43d887848839"
      },
      "source": [
        "df = pd.read_csv('/content/gdrive/MyDrive/Colab DataSets/abcnews-date-text.csv')\n",
        "df.head()"
      ],
      "execution_count": null,
      "outputs": [
        {
          "output_type": "execute_result",
          "data": {
            "text/html": [
              "<div>\n",
              "<style scoped>\n",
              "    .dataframe tbody tr th:only-of-type {\n",
              "        vertical-align: middle;\n",
              "    }\n",
              "\n",
              "    .dataframe tbody tr th {\n",
              "        vertical-align: top;\n",
              "    }\n",
              "\n",
              "    .dataframe thead th {\n",
              "        text-align: right;\n",
              "    }\n",
              "</style>\n",
              "<table border=\"1\" class=\"dataframe\">\n",
              "  <thead>\n",
              "    <tr style=\"text-align: right;\">\n",
              "      <th></th>\n",
              "      <th>publish_date</th>\n",
              "      <th>headline_text</th>\n",
              "    </tr>\n",
              "  </thead>\n",
              "  <tbody>\n",
              "    <tr>\n",
              "      <th>0</th>\n",
              "      <td>20030219</td>\n",
              "      <td>aba decides against community broadcasting licence</td>\n",
              "    </tr>\n",
              "    <tr>\n",
              "      <th>1</th>\n",
              "      <td>20030219</td>\n",
              "      <td>act fire witnesses must be aware of defamation</td>\n",
              "    </tr>\n",
              "    <tr>\n",
              "      <th>2</th>\n",
              "      <td>20030219</td>\n",
              "      <td>a g calls for infrastructure protection summit</td>\n",
              "    </tr>\n",
              "    <tr>\n",
              "      <th>3</th>\n",
              "      <td>20030219</td>\n",
              "      <td>air nz staff in aust strike for pay rise</td>\n",
              "    </tr>\n",
              "    <tr>\n",
              "      <th>4</th>\n",
              "      <td>20030219</td>\n",
              "      <td>air nz strike to affect australian travellers</td>\n",
              "    </tr>\n",
              "  </tbody>\n",
              "</table>\n",
              "</div>"
            ],
            "text/plain": [
              "   publish_date                                       headline_text\n",
              "0      20030219  aba decides against community broadcasting licence\n",
              "1      20030219      act fire witnesses must be aware of defamation\n",
              "2      20030219      a g calls for infrastructure protection summit\n",
              "3      20030219            air nz staff in aust strike for pay rise\n",
              "4      20030219       air nz strike to affect australian travellers"
            ]
          },
          "metadata": {
            "tags": []
          },
          "execution_count": 5
        }
      ]
    },
    {
      "cell_type": "code",
      "metadata": {
        "colab": {
          "base_uri": "https://localhost:8080/"
        },
        "id": "5MKqDMRV4ATe",
        "outputId": "4b3afc46-2670-4a5a-c807-a72014c8c200"
      },
      "source": [
        "df.info()"
      ],
      "execution_count": null,
      "outputs": [
        {
          "output_type": "stream",
          "text": [
            "<class 'pandas.core.frame.DataFrame'>\n",
            "RangeIndex: 1226258 entries, 0 to 1226257\n",
            "Data columns (total 2 columns):\n",
            " #   Column         Non-Null Count    Dtype \n",
            "---  ------         --------------    ----- \n",
            " 0   publish_date   1226258 non-null  int64 \n",
            " 1   headline_text  1226258 non-null  object\n",
            "dtypes: int64(1), object(1)\n",
            "memory usage: 18.7+ MB\n"
          ],
          "name": "stdout"
        }
      ]
    },
    {
      "cell_type": "code",
      "metadata": {
        "colab": {
          "base_uri": "https://localhost:8080/",
          "height": 204
        },
        "id": "NhEIObID4ATe",
        "outputId": "10485be0-3422-467d-cbad-f2be6d0e0fa3"
      },
      "source": [
        "## We will be taking 10000 long headlines\n",
        "df = df.iloc[df['headline_text'].apply(lambda x : len(x)).sort_values(ascending = False).index].head(10000)\n",
        "df.head()"
      ],
      "execution_count": null,
      "outputs": [
        {
          "output_type": "execute_result",
          "data": {
            "text/html": [
              "<div>\n",
              "<style scoped>\n",
              "    .dataframe tbody tr th:only-of-type {\n",
              "        vertical-align: middle;\n",
              "    }\n",
              "\n",
              "    .dataframe tbody tr th {\n",
              "        vertical-align: top;\n",
              "    }\n",
              "\n",
              "    .dataframe thead th {\n",
              "        text-align: right;\n",
              "    }\n",
              "</style>\n",
              "<table border=\"1\" class=\"dataframe\">\n",
              "  <thead>\n",
              "    <tr style=\"text-align: right;\">\n",
              "      <th></th>\n",
              "      <th>publish_date</th>\n",
              "      <th>headline_text</th>\n",
              "    </tr>\n",
              "  </thead>\n",
              "  <tbody>\n",
              "    <tr>\n",
              "      <th>864170</th>\n",
              "      <td>20140331</td>\n",
              "      <td>tasmanian world heritage delisting breach of international obligations</td>\n",
              "    </tr>\n",
              "    <tr>\n",
              "      <th>998246</th>\n",
              "      <td>20151208</td>\n",
              "      <td>berri barmera council gets $3.5 million for multipurpose sports centre</td>\n",
              "    </tr>\n",
              "    <tr>\n",
              "      <th>748563</th>\n",
              "      <td>20121213</td>\n",
              "      <td>salvation army determined to deliver on nauru despite tough conditions</td>\n",
              "    </tr>\n",
              "    <tr>\n",
              "      <th>831712</th>\n",
              "      <td>20131105</td>\n",
              "      <td>johnson and johnson fined 2.2 billion for faulty drug claims kickbacks</td>\n",
              "    </tr>\n",
              "    <tr>\n",
              "      <th>1085421</th>\n",
              "      <td>20170610</td>\n",
              "      <td>daniel morcombe assistant commissioner mike conduct alleged misconduct</td>\n",
              "    </tr>\n",
              "  </tbody>\n",
              "</table>\n",
              "</div>"
            ],
            "text/plain": [
              "         publish_date                                                           headline_text\n",
              "864170       20140331  tasmanian world heritage delisting breach of international obligations\n",
              "998246       20151208  berri barmera council gets $3.5 million for multipurpose sports centre\n",
              "748563       20121213  salvation army determined to deliver on nauru despite tough conditions\n",
              "831712       20131105  johnson and johnson fined 2.2 billion for faulty drug claims kickbacks\n",
              "1085421      20170610  daniel morcombe assistant commissioner mike conduct alleged misconduct"
            ]
          },
          "metadata": {
            "tags": []
          },
          "execution_count": 7
        }
      ]
    },
    {
      "cell_type": "code",
      "metadata": {
        "colab": {
          "base_uri": "https://localhost:8080/",
          "height": 221
        },
        "id": "ZHmNc4np4ATf",
        "outputId": "a00cc802-af3f-42e6-9f60-3536112508ee"
      },
      "source": [
        "df = df.reset_index()\n",
        "print(len(df))\n",
        "df.drop(columns = ['index' , 'publish_date'] , inplace = True)\n",
        "df.head()"
      ],
      "execution_count": null,
      "outputs": [
        {
          "output_type": "stream",
          "text": [
            "10000\n"
          ],
          "name": "stdout"
        },
        {
          "output_type": "execute_result",
          "data": {
            "text/html": [
              "<div>\n",
              "<style scoped>\n",
              "    .dataframe tbody tr th:only-of-type {\n",
              "        vertical-align: middle;\n",
              "    }\n",
              "\n",
              "    .dataframe tbody tr th {\n",
              "        vertical-align: top;\n",
              "    }\n",
              "\n",
              "    .dataframe thead th {\n",
              "        text-align: right;\n",
              "    }\n",
              "</style>\n",
              "<table border=\"1\" class=\"dataframe\">\n",
              "  <thead>\n",
              "    <tr style=\"text-align: right;\">\n",
              "      <th></th>\n",
              "      <th>headline_text</th>\n",
              "    </tr>\n",
              "  </thead>\n",
              "  <tbody>\n",
              "    <tr>\n",
              "      <th>0</th>\n",
              "      <td>tasmanian world heritage delisting breach of international obligations</td>\n",
              "    </tr>\n",
              "    <tr>\n",
              "      <th>1</th>\n",
              "      <td>berri barmera council gets $3.5 million for multipurpose sports centre</td>\n",
              "    </tr>\n",
              "    <tr>\n",
              "      <th>2</th>\n",
              "      <td>salvation army determined to deliver on nauru despite tough conditions</td>\n",
              "    </tr>\n",
              "    <tr>\n",
              "      <th>3</th>\n",
              "      <td>johnson and johnson fined 2.2 billion for faulty drug claims kickbacks</td>\n",
              "    </tr>\n",
              "    <tr>\n",
              "      <th>4</th>\n",
              "      <td>daniel morcombe assistant commissioner mike conduct alleged misconduct</td>\n",
              "    </tr>\n",
              "  </tbody>\n",
              "</table>\n",
              "</div>"
            ],
            "text/plain": [
              "                                                            headline_text\n",
              "0  tasmanian world heritage delisting breach of international obligations\n",
              "1  berri barmera council gets $3.5 million for multipurpose sports centre\n",
              "2  salvation army determined to deliver on nauru despite tough conditions\n",
              "3  johnson and johnson fined 2.2 billion for faulty drug claims kickbacks\n",
              "4  daniel morcombe assistant commissioner mike conduct alleged misconduct"
            ]
          },
          "metadata": {
            "tags": []
          },
          "execution_count": 8
        }
      ]
    },
    {
      "cell_type": "code",
      "metadata": {
        "colab": {
          "base_uri": "https://localhost:8080/"
        },
        "id": "QqJjfT5C4ATg",
        "outputId": "e252a522-4e36-450f-b72e-cab4bf145a62"
      },
      "source": [
        "headlines = []\n",
        "headlines.extend(list(df[\"headline_text\"].values))\n",
        "print(len(headlines))\n",
        "headlines[:5]"
      ],
      "execution_count": null,
      "outputs": [
        {
          "output_type": "stream",
          "text": [
            "10000\n"
          ],
          "name": "stdout"
        },
        {
          "output_type": "execute_result",
          "data": {
            "text/plain": [
              "['tasmanian world heritage delisting breach of international obligations',\n",
              " 'berri barmera council gets $3.5 million for multipurpose sports centre',\n",
              " 'salvation army determined to deliver on nauru despite tough conditions',\n",
              " 'johnson and johnson fined 2.2 billion for faulty drug claims kickbacks',\n",
              " 'daniel morcombe assistant commissioner mike conduct alleged misconduct']"
            ]
          },
          "metadata": {
            "tags": []
          },
          "execution_count": 9
        }
      ]
    },
    {
      "cell_type": "markdown",
      "metadata": {
        "id": "WVWbTTAv4ATg"
      },
      "source": [
        "### Text Cleaning"
      ]
    },
    {
      "cell_type": "code",
      "metadata": {
        "colab": {
          "base_uri": "https://localhost:8080/"
        },
        "id": "nJ_S3Y_k4ATh",
        "outputId": "42f0aef4-495e-4a11-b365-ce00e2024686"
      },
      "source": [
        "import string\n",
        "import warnings\n",
        "warnings.simplefilter(action='ignore', category=FutureWarning)\n",
        "\n",
        "def clean_text(headline):\n",
        "    text = \"\".join( word for word in headline if word not in string.punctuation ).lower()\n",
        "    text = text.encode(\"utf8\").decode(\"ascii\", \"ignore\")\n",
        "    return text\n",
        "\n",
        "corpus = [ clean_text(headline) for headline in headlines ]\n",
        "corpus[:5]"
      ],
      "execution_count": null,
      "outputs": [
        {
          "output_type": "execute_result",
          "data": {
            "text/plain": [
              "['tasmanian world heritage delisting breach of international obligations',\n",
              " 'berri barmera council gets 35 million for multipurpose sports centre',\n",
              " 'salvation army determined to deliver on nauru despite tough conditions',\n",
              " 'johnson and johnson fined 22 billion for faulty drug claims kickbacks',\n",
              " 'daniel morcombe assistant commissioner mike conduct alleged misconduct']"
            ]
          },
          "metadata": {
            "tags": []
          },
          "execution_count": 10
        }
      ]
    },
    {
      "cell_type": "code",
      "metadata": {
        "colab": {
          "base_uri": "https://localhost:8080/"
        },
        "id": "0D5516Ds4ATi",
        "outputId": "b0966fe1-b208-4e37-d495-a2899249c36e"
      },
      "source": [
        "corpus[len(corpus)-5:]"
      ],
      "execution_count": null,
      "outputs": [
        {
          "output_type": "execute_result",
          "data": {
            "text/plain": [
              "['fears exploratory drilling will contaminate local water supplies',\n",
              " 'barge carrying fireworks display catches fire off terrigal beach',\n",
              " 'australia needs more than proteas thrashing to regain number one',\n",
              " 'victoria seeks to follow queensland in criminalising bikie gangs',\n",
              " 'russian tankers fuelled north korea via transfers at sea reports']"
            ]
          },
          "metadata": {
            "tags": []
          },
          "execution_count": 11
        }
      ]
    },
    {
      "cell_type": "markdown",
      "metadata": {
        "id": "CtMeU17z4ATi"
      },
      "source": [
        "### Generating sequence of N-gram tokens"
      ]
    },
    {
      "cell_type": "code",
      "metadata": {
        "colab": {
          "base_uri": "https://localhost:8080/"
        },
        "id": "Vc1pb1Oi4ATj",
        "outputId": "3b5ef1ca-f539-4b2a-b04c-b7ba9ebf0d77"
      },
      "source": [
        "vocab = []\n",
        "for line in corpus:\n",
        "    words = line.split()\n",
        "    for word in words:\n",
        "        vocab.append(word)\n",
        "\n",
        "vocablary = set(vocab)\n",
        "print(len(vocablary))"
      ],
      "execution_count": null,
      "outputs": [
        {
          "output_type": "stream",
          "text": [
            "15861\n"
          ],
          "name": "stdout"
        }
      ]
    },
    {
      "cell_type": "code",
      "metadata": {
        "id": "MIoeo_5f4ATk"
      },
      "source": [
        "from tensorflow.keras.preprocessing.text import Tokenizer"
      ],
      "execution_count": null,
      "outputs": []
    },
    {
      "cell_type": "code",
      "metadata": {
        "colab": {
          "base_uri": "https://localhost:8080/"
        },
        "id": "Wp7kdhxB4ATk",
        "outputId": "b6472ba9-1f1d-4a45-ae05-d3886df70615"
      },
      "source": [
        "tokenizer = Tokenizer()\n",
        "tokenizer.fit_on_texts(corpus)\n",
        "word2index = tokenizer.word_index\n",
        "len(word2index)"
      ],
      "execution_count": null,
      "outputs": [
        {
          "output_type": "execute_result",
          "data": {
            "text/plain": [
              "15861"
            ]
          },
          "metadata": {
            "tags": []
          },
          "execution_count": 14
        }
      ]
    },
    {
      "cell_type": "code",
      "metadata": {
        "colab": {
          "base_uri": "https://localhost:8080/"
        },
        "id": "i85-Ljuc4ATl",
        "outputId": "8996c951-ec1d-4a0c-d48a-6762ab458968"
      },
      "source": [
        "word2index.get('and')"
      ],
      "execution_count": null,
      "outputs": [
        {
          "output_type": "execute_result",
          "data": {
            "text/plain": [
              "10"
            ]
          },
          "metadata": {
            "tags": []
          },
          "execution_count": 15
        }
      ]
    },
    {
      "cell_type": "code",
      "metadata": {
        "id": "AqLd2gLR4ATl"
      },
      "source": [
        "dictionary = {}\n",
        "rev_dictionary = {}\n",
        "for word, idx in word2index.items():\n",
        "    dictionary[word] = idx\n",
        "    rev_dictionary[idx] = word"
      ],
      "execution_count": null,
      "outputs": []
    },
    {
      "cell_type": "code",
      "metadata": {
        "id": "SSheuiu-4ATl"
      },
      "source": [
        "from pickle import dump\n",
        "# saving the tokenizer\n",
        "dump(tokenizer, open('tokenizer.pkl', 'wb'))"
      ],
      "execution_count": null,
      "outputs": []
    },
    {
      "cell_type": "code",
      "metadata": {
        "colab": {
          "base_uri": "https://localhost:8080/"
        },
        "id": "0gsEGGcg4ATm",
        "outputId": "d10730e7-25ac-4662-d3cf-200dd6c11eea"
      },
      "source": [
        "max(rev_dictionary.keys())"
      ],
      "execution_count": null,
      "outputs": [
        {
          "output_type": "execute_result",
          "data": {
            "text/plain": [
              "15861"
            ]
          },
          "metadata": {
            "tags": []
          },
          "execution_count": 18
        }
      ]
    },
    {
      "cell_type": "code",
      "metadata": {
        "colab": {
          "base_uri": "https://localhost:8080/"
        },
        "id": "qQ97-MlS4ATm",
        "outputId": "0157d75b-e620-49ae-f967-e9634dca1324"
      },
      "source": [
        "input_seqences = tokenizer.texts_to_sequences(corpus)\n",
        "print(len(input_seqences))"
      ],
      "execution_count": null,
      "outputs": [
        {
          "output_type": "stream",
          "text": [
            "10000\n"
          ],
          "name": "stdout"
        }
      ]
    },
    {
      "cell_type": "code",
      "metadata": {
        "colab": {
          "base_uri": "https://localhost:8080/"
        },
        "id": "MUrOkexh4ATn",
        "outputId": "aca667cb-a5a4-4b43-d043-7c07a09d76a9"
      },
      "source": [
        "input_seqences[:5]"
      ],
      "execution_count": null,
      "outputs": [
        {
          "output_type": "execute_result",
          "data": {
            "text/plain": [
              "[[97, 66, 495, 7768, 526, 3, 318, 7769],\n",
              " [7770, 7771, 113, 417, 2922, 94, 4, 7772, 1160, 136],\n",
              " [1015, 373, 2923, 1, 1617, 5, 840, 196, 1246, 1161],\n",
              " [473, 10, 473, 1357, 1618, 175, 4, 5381, 129, 137, 7773],\n",
              " [452, 2924, 2537, 550, 749, 1247, 90, 1481]]"
            ]
          },
          "metadata": {
            "tags": []
          },
          "execution_count": 20
        }
      ]
    },
    {
      "cell_type": "code",
      "metadata": {
        "colab": {
          "base_uri": "https://localhost:8080/"
        },
        "id": "7T0zBmw9_r4W",
        "outputId": "f150430e-bd88-4430-b3e1-e1c468c51d6d"
      },
      "source": [
        "input_data = []\n",
        "output_data = []\n",
        "for line in input_seqences[:2]:\n",
        "  print(len(line))\n",
        "  for i in range(1,len(line)):\n",
        "    print(i)  \n",
        "    input_data.append(line[:i])\n",
        "\n",
        "  for i in range(1,len(line)):  \n",
        "    if i == int(1):\n",
        "      output_data.append(line[i])\n",
        "    else:  \n",
        "      output_data.append(line[i])\n",
        "    \n",
        "print(input_data)"
      ],
      "execution_count": null,
      "outputs": [
        {
          "output_type": "stream",
          "text": [
            "8\n",
            "1\n",
            "2\n",
            "3\n",
            "4\n",
            "5\n",
            "6\n",
            "7\n",
            "10\n",
            "1\n",
            "2\n",
            "3\n",
            "4\n",
            "5\n",
            "6\n",
            "7\n",
            "8\n",
            "9\n",
            "[[97], [97, 66], [97, 66, 495], [97, 66, 495, 7768], [97, 66, 495, 7768, 526], [97, 66, 495, 7768, 526, 3], [97, 66, 495, 7768, 526, 3, 318], [7770], [7770, 7771], [7770, 7771, 113], [7770, 7771, 113, 417], [7770, 7771, 113, 417, 2922], [7770, 7771, 113, 417, 2922, 94], [7770, 7771, 113, 417, 2922, 94, 4], [7770, 7771, 113, 417, 2922, 94, 4, 7772], [7770, 7771, 113, 417, 2922, 94, 4, 7772, 1160]]\n"
          ],
          "name": "stdout"
        }
      ]
    },
    {
      "cell_type": "code",
      "metadata": {
        "colab": {
          "base_uri": "https://localhost:8080/"
        },
        "id": "_4ORPk62C0ID",
        "outputId": "88e02ad0-6780-4154-829e-90c90e4a7fb2"
      },
      "source": [
        "output_data"
      ],
      "execution_count": null,
      "outputs": [
        {
          "output_type": "execute_result",
          "data": {
            "text/plain": [
              "[66,\n",
              " 495,\n",
              " 7768,\n",
              " 526,\n",
              " 3,\n",
              " 318,\n",
              " 7769,\n",
              " 7771,\n",
              " 113,\n",
              " 417,\n",
              " 2922,\n",
              " 94,\n",
              " 4,\n",
              " 7772,\n",
              " 1160,\n",
              " 136]"
            ]
          },
          "metadata": {
            "tags": []
          },
          "execution_count": 22
        }
      ]
    },
    {
      "cell_type": "code",
      "metadata": {
        "colab": {
          "base_uri": "https://localhost:8080/"
        },
        "id": "FMygjsEC4ATo",
        "outputId": "7ed958b1-021c-4d28-d383-ce8b134fc2cf"
      },
      "source": [
        "input_data = []\n",
        "target = []\n",
        "for line in input_seqences:\n",
        "  for i in range(1,len(line)):\n",
        "    input_data.append(line[:i])\n",
        "  for i in range(1,len(line)):  \n",
        "    if i == int(1):\n",
        "      target.append(line[i])\n",
        "    else:  \n",
        "      target.append(line[i])\n",
        "    \n",
        "print(len(input_data) , len(target))\n",
        "input_data[:10]"
      ],
      "execution_count": null,
      "outputs": [
        {
          "output_type": "stream",
          "text": [
            "86758 86758\n"
          ],
          "name": "stdout"
        },
        {
          "output_type": "execute_result",
          "data": {
            "text/plain": [
              "[[97],\n",
              " [97, 66],\n",
              " [97, 66, 495],\n",
              " [97, 66, 495, 7768],\n",
              " [97, 66, 495, 7768, 526],\n",
              " [97, 66, 495, 7768, 526, 3],\n",
              " [97, 66, 495, 7768, 526, 3, 318],\n",
              " [7770],\n",
              " [7770, 7771],\n",
              " [7770, 7771, 113]]"
            ]
          },
          "metadata": {
            "tags": []
          },
          "execution_count": 23
        }
      ]
    },
    {
      "cell_type": "code",
      "metadata": {
        "colab": {
          "base_uri": "https://localhost:8080/"
        },
        "id": "1cNs8FHS4ATo",
        "outputId": "6a2e9648-779a-4342-f457-a12d9c370f4f"
      },
      "source": [
        "target[:10]"
      ],
      "execution_count": null,
      "outputs": [
        {
          "output_type": "execute_result",
          "data": {
            "text/plain": [
              "[66, 495, 7768, 526, 3, 318, 7769, 7771, 113, 417]"
            ]
          },
          "metadata": {
            "tags": []
          },
          "execution_count": 24
        }
      ]
    },
    {
      "cell_type": "code",
      "metadata": {
        "colab": {
          "base_uri": "https://localhost:8080/"
        },
        "id": "7hBEE4XN4ATp",
        "outputId": "8f8cb255-b387-42cf-b7c1-3094a2128f30"
      },
      "source": [
        "MAX_LEN = 0\n",
        "for seq in input_data:\n",
        "    if len(seq) > MAX_LEN:\n",
        "        MAX_LEN = len(seq)\n",
        "MAX_LEN"
      ],
      "execution_count": null,
      "outputs": [
        {
          "output_type": "execute_result",
          "data": {
            "text/plain": [
              "14"
            ]
          },
          "metadata": {
            "tags": []
          },
          "execution_count": 25
        }
      ]
    },
    {
      "cell_type": "code",
      "metadata": {
        "id": "roj-JlML4ATp"
      },
      "source": [
        "from tensorflow.keras.preprocessing.sequence import pad_sequences\n"
      ],
      "execution_count": null,
      "outputs": []
    },
    {
      "cell_type": "code",
      "metadata": {
        "colab": {
          "base_uri": "https://localhost:8080/"
        },
        "id": "llUG0ufh4ATq",
        "outputId": "e9185429-655e-4aef-e41e-fac6187e428e"
      },
      "source": [
        "input_data = pad_sequences(input_data, maxlen=MAX_LEN, padding=\"post\", truncating=\"post\")\n",
        "print(len(input_data[0]))\n",
        "input_data.shape"
      ],
      "execution_count": null,
      "outputs": [
        {
          "output_type": "stream",
          "text": [
            "14\n"
          ],
          "name": "stdout"
        },
        {
          "output_type": "execute_result",
          "data": {
            "text/plain": [
              "(86758, 14)"
            ]
          },
          "metadata": {
            "tags": []
          },
          "execution_count": 27
        }
      ]
    },
    {
      "cell_type": "code",
      "metadata": {
        "id": "4vpABR3U4ATq"
      },
      "source": [
        "from tensorflow.keras.utils import to_categorical\n"
      ],
      "execution_count": null,
      "outputs": []
    },
    {
      "cell_type": "code",
      "metadata": {
        "colab": {
          "base_uri": "https://localhost:8080/"
        },
        "id": "RA8vpyhk4ATq",
        "outputId": "2aab4d68-9cdd-4146-a375-ffeb8e3e798a"
      },
      "source": [
        "vocab_size = len(word2index)+1\n",
        "target = to_categorical(target, num_classes=vocab_size )\n",
        "print(target.shape)\n",
        "target"
      ],
      "execution_count": null,
      "outputs": [
        {
          "output_type": "stream",
          "text": [
            "(86758, 15862)\n"
          ],
          "name": "stdout"
        },
        {
          "output_type": "execute_result",
          "data": {
            "text/plain": [
              "array([[0., 0., 0., ..., 0., 0., 0.],\n",
              "       [0., 0., 0., ..., 0., 0., 0.],\n",
              "       [0., 0., 0., ..., 0., 0., 0.],\n",
              "       ...,\n",
              "       [0., 0., 0., ..., 0., 0., 0.],\n",
              "       [0., 0., 0., ..., 0., 0., 0.],\n",
              "       [0., 0., 0., ..., 0., 0., 0.]], dtype=float32)"
            ]
          },
          "metadata": {
            "tags": []
          },
          "execution_count": 29
        }
      ]
    },
    {
      "cell_type": "code",
      "metadata": {
        "colab": {
          "base_uri": "https://localhost:8080/"
        },
        "id": "EQJvgvso4ATr",
        "outputId": "59e7a48b-92fc-4f27-af0d-aaa14241e606"
      },
      "source": [
        "print(MAX_LEN)"
      ],
      "execution_count": null,
      "outputs": [
        {
          "output_type": "stream",
          "text": [
            "14\n"
          ],
          "name": "stdout"
        }
      ]
    },
    {
      "cell_type": "markdown",
      "metadata": {
        "id": "yP-7BxfBJjli"
      },
      "source": [
        "## Model Building"
      ]
    },
    {
      "cell_type": "code",
      "metadata": {
        "id": "M4MgzSV9H28U"
      },
      "source": [
        "\n",
        "from tensorflow.keras.models import *\n",
        "from tensorflow.keras.layers import *\n",
        "from tensorflow.keras.callbacks import *\n"
      ],
      "execution_count": null,
      "outputs": []
    },
    {
      "cell_type": "code",
      "metadata": {
        "colab": {
          "base_uri": "https://localhost:8080/"
        },
        "id": "ZY9uyN9OIBGr",
        "outputId": "abfc0b96-e280-4c99-96c7-19626930cca2"
      },
      "source": [
        "print(vocab_size , target.shape[1])"
      ],
      "execution_count": null,
      "outputs": [
        {
          "output_type": "stream",
          "text": [
            "15862 15862\n"
          ],
          "name": "stdout"
        }
      ]
    },
    {
      "cell_type": "code",
      "metadata": {
        "id": "I63ON2UyIPSw"
      },
      "source": [
        "## GRU model\n",
        "gru_model = Sequential()\n",
        "gru_model.add(Embedding(input_dim=vocab_size, output_dim=300, input_length=MAX_LEN))\n",
        "gru_model.add(GRU(units=100))\n",
        "gru_model.add(Dropout(rate=0.1))\n",
        "gru_model.add(Dense(units=target.shape[1], activation=\"softmax\"))"
      ],
      "execution_count": null,
      "outputs": []
    },
    {
      "cell_type": "code",
      "metadata": {
        "id": "oDA0ZwA3IwKV"
      },
      "source": [
        "## LSTM model\n",
        "model = Sequential()\n",
        "model.add(Embedding(input_dim=vocab_size, output_dim=300, input_length=MAX_LEN))\n",
        "model.add(Bidirectional(LSTM(300)))\n",
        "model.add(Dropout(rate=0.1))\n",
        "model.add(Dense(units=target.shape[1], activation=\"softmax\"))"
      ],
      "execution_count": null,
      "outputs": []
    },
    {
      "cell_type": "code",
      "metadata": {
        "colab": {
          "base_uri": "https://localhost:8080/"
        },
        "id": "4YzBcg52JD6W",
        "outputId": "8a291be2-6e6d-4544-a65d-560299a4862c"
      },
      "source": [
        "gru_model.compile(loss=\"categorical_crossentropy\", optimizer=\"adam\" , metrics=['accuracy'])\n",
        "gru_model.summary()\n"
      ],
      "execution_count": null,
      "outputs": [
        {
          "output_type": "stream",
          "text": [
            "Model: \"sequential\"\n",
            "_________________________________________________________________\n",
            "Layer (type)                 Output Shape              Param #   \n",
            "=================================================================\n",
            "embedding (Embedding)        (None, 14, 300)           4758600   \n",
            "_________________________________________________________________\n",
            "gru (GRU)                    (None, 100)               120600    \n",
            "_________________________________________________________________\n",
            "dropout (Dropout)            (None, 100)               0         \n",
            "_________________________________________________________________\n",
            "dense (Dense)                (None, 15862)             1602062   \n",
            "=================================================================\n",
            "Total params: 6,481,262\n",
            "Trainable params: 6,481,262\n",
            "Non-trainable params: 0\n",
            "_________________________________________________________________\n"
          ],
          "name": "stdout"
        }
      ]
    },
    {
      "cell_type": "code",
      "metadata": {
        "colab": {
          "background_save": true,
          "base_uri": "https://localhost:8080/"
        },
        "id": "qhs1qKNTJJyY",
        "outputId": "8bc59c2a-fbdd-439c-9e74-8e088fc677a6"
      },
      "source": [
        "from time import time\n",
        "t = time()\n",
        "\n",
        "gru_model.fit(input_data, target, batch_size=32, epochs=20, verbose=1)\n",
        "print(\"Total time taken to run : {} mins\".format(np.round((time()-t)/60,decimals = 2)))\n"
      ],
      "execution_count": null,
      "outputs": [
        {
          "output_type": "stream",
          "text": [
            "Epoch 1/20\n",
            "2712/2712 [==============================] - 181s 55ms/step - loss: 8.5637 - accuracy: 0.0288\n",
            "Epoch 2/20\n",
            "2712/2712 [==============================] - 148s 55ms/step - loss: 7.9169 - accuracy: 0.0351\n",
            "Epoch 3/20\n",
            "2712/2712 [==============================] - 149s 55ms/step - loss: 7.3213 - accuracy: 0.0688\n",
            "Epoch 4/20\n",
            "2712/2712 [==============================] - 149s 55ms/step - loss: 6.5948 - accuracy: 0.1076\n",
            "Epoch 5/20\n",
            "2712/2712 [==============================] - 139s 51ms/step - loss: 5.8626 - accuracy: 0.1502\n",
            "Epoch 6/20\n",
            "2712/2712 [==============================] - 134s 49ms/step - loss: 5.1754 - accuracy: 0.2022\n",
            "Epoch 7/20\n",
            "2712/2712 [==============================] - 140s 52ms/step - loss: 4.5757 - accuracy: 0.2650\n",
            "Epoch 8/20\n",
            "2712/2712 [==============================] - 140s 52ms/step - loss: 4.0707 - accuracy: 0.3183\n",
            "Epoch 9/20\n",
            "2712/2712 [==============================] - 133s 49ms/step - loss: 3.6424 - accuracy: 0.3707\n",
            "Epoch 10/20\n",
            "2712/2712 [==============================] - 134s 49ms/step - loss: 3.2503 - accuracy: 0.4250\n",
            "Epoch 11/20\n",
            "2712/2712 [==============================] - 134s 49ms/step - loss: 2.9577 - accuracy: 0.4663\n",
            "Epoch 12/20\n",
            "2712/2712 [==============================] - 134s 49ms/step - loss: 2.6821 - accuracy: 0.5069\n",
            "Epoch 13/20\n",
            "2712/2712 [==============================] - 134s 49ms/step - loss: 2.4582 - accuracy: 0.5407\n",
            "Epoch 14/20\n",
            "2712/2712 [==============================] - 133s 49ms/step - loss: 2.2566 - accuracy: 0.5734\n",
            "Epoch 15/20\n",
            "2712/2712 [==============================] - 133s 49ms/step - loss: 2.1209 - accuracy: 0.5924\n",
            "Epoch 16/20\n",
            "2712/2712 [==============================] - 133s 49ms/step - loss: 1.9536 - accuracy: 0.6223\n",
            "Epoch 17/20\n",
            "2712/2712 [==============================] - 132s 49ms/step - loss: 1.8420 - accuracy: 0.6401\n",
            "Epoch 18/20\n",
            "2712/2712 [==============================] - 132s 49ms/step - loss: 1.7258 - accuracy: 0.6601\n",
            "Epoch 19/20\n",
            "2712/2712 [==============================] - 132s 49ms/step - loss: 1.6335 - accuracy: 0.6724\n",
            "Epoch 20/20\n",
            "2712/2712 [==============================] - 132s 49ms/step - loss: 1.5456 - accuracy: 0.6874\n",
            "Total time taken to run : 46.28 mins\n"
          ],
          "name": "stdout"
        }
      ]
    },
    {
      "cell_type": "code",
      "metadata": {
        "id": "A-gYBz0fbI-J"
      },
      "source": [
        ""
      ],
      "execution_count": null,
      "outputs": []
    },
    {
      "cell_type": "code",
      "metadata": {
        "id": "BZMg51iZJ5E9"
      },
      "source": [
        "## Saving current model\n",
        "gru_model.save('GRU_model.h5')"
      ],
      "execution_count": null,
      "outputs": []
    },
    {
      "cell_type": "markdown",
      "metadata": {
        "id": "43_oTCt1JwHz"
      },
      "source": [
        "## Generating the text\n"
      ]
    },
    {
      "cell_type": "code",
      "metadata": {
        "id": "ohZvWwiBJO4X"
      },
      "source": [
        "#from tensorflow import set_random_seed\n",
        "from numpy.random import seed\n",
        "#set_random_seed(2)\n",
        "seed(1)\n",
        "from keras.models import load_model\n",
        "# load the model\n",
        "GRU = load_model('GRU_model.h5')\n"
      ],
      "execution_count": null,
      "outputs": []
    },
    {
      "cell_type": "code",
      "metadata": {
        "id": "Ipm3JPeLJy-9"
      },
      "source": [
        "# generate a sequence from a language model\n",
        "def generate_seq(model, tokenizer, seq_length, seed_text, n_words):\n",
        "\tresult = list()\n",
        "\tin_text = seed_text\n",
        "\t# generate a fixed number of words\n",
        "\tfor _ in range(n_words):\n",
        "\t\t# encode the text as integer\n",
        "\t\tencoded = tokenizer.texts_to_sequences([in_text])[0]\n",
        "\t\t# truncate sequences to a fixed length\n",
        "\t\tencoded = pad_sequences([encoded], maxlen=seq_length, padding='post')\n",
        "\t\t# predict probabilities for each word\n",
        "\t\tyhat = model.predict_classes(encoded, verbose=0)\n",
        "\t\t# map predicted word index to word\n",
        "\t\tout_word = ''\n",
        "\t\tfor word, index in tokenizer.word_index.items():\n",
        "\t\t\tif index == yhat:\n",
        "\t\t\t\tout_word = word\n",
        "\t\t\t\tbreak\n",
        "\t\t# append to input\n",
        "\t\tin_text += ' ' + out_word\n",
        "\t\tresult.append(out_word)\n",
        "\treturn (' '.join(result) , in_text)"
      ],
      "execution_count": null,
      "outputs": []
    },
    {
      "cell_type": "code",
      "metadata": {
        "id": "1MNMWbxsLBms"
      },
      "source": [
        "text1 = \"salvation army determined to deliver on nauru despite\"\n",
        "predicted , total_text = generate_seq(gru_model, tokenizer , MAX_LEN , text1 , 2)\n"
      ],
      "execution_count": null,
      "outputs": []
    },
    {
      "cell_type": "code",
      "metadata": {
        "colab": {
          "base_uri": "https://localhost:8080/"
        },
        "id": "64waBytvnOnN",
        "outputId": "d6b26d8f-c1e7-48d5-9292-08a67931b9ca"
      },
      "source": [
        "print(total_text)"
      ],
      "execution_count": null,
      "outputs": [
        {
          "output_type": "stream",
          "text": [
            "salvation army determined to deliver on nauru despite crisis boss\n"
          ],
          "name": "stdout"
        }
      ]
    },
    {
      "cell_type": "code",
      "metadata": {
        "colab": {
          "base_uri": "https://localhost:8080/"
        },
        "id": "SQRP6G1rnQ8z",
        "outputId": "3534b06b-18a4-44ec-e2a9-9389baf09777"
      },
      "source": [
        "print(predicted)"
      ],
      "execution_count": null,
      "outputs": [
        {
          "output_type": "stream",
          "text": [
            "crisis boss\n"
          ],
          "name": "stdout"
        }
      ]
    },
    {
      "cell_type": "markdown",
      "metadata": {
        "id": "cA3JgFNDnoMu"
      },
      "source": [
        "### It needs more Data as well as more epochs to train !!! However I've used approx. all of available Ram of Colab during training above along with GPU support . "
      ]
    },
    {
      "cell_type": "code",
      "metadata": {
        "id": "9jGahvD3nTbs"
      },
      "source": [
        ""
      ],
      "execution_count": null,
      "outputs": []
    }
  ]
}